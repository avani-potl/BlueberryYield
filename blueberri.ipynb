{
 "cells": [
  {
   "cell_type": "code",
   "execution_count": null,
   "id": "61cad272",
   "metadata": {},
   "outputs": [],
   "source": [
    "import pandas as pd\n",
    "from sklearn.model_selection import train_test_split, RandomizedSearchCV\n",
    "from sklearn.ensemble import RandomForestRegressor\n",
    "from sklearn.feature_selection import SelectKBest, f_regression\n",
    "from sklearn.metrics import mean_absolute_error\n",
    "\n",
    "# Read the training data\n",
    "train_data = pd.read_csv(\"C:\\\\Users\\\\apotl\\\\OneDrive\\\\Desktop\\\\train.csv (1)\\\\train.csv\")\n",
    "\n",
    "# Separate features (X) and target variable (y)\n",
    "X = train_data.drop('yield', axis=1)\n",
    "y = train_data['yield']\n",
    "\n",
    "# Perform feature selection using SelectKBest and f_regression\n",
    "k = 5  # Number of top features to select\n",
    "selector = SelectKBest(score_func=f_regression, k=k)\n",
    "X_selected = selector.fit_transform(X, y)\n",
    "\n",
    "# Split the data into training and validation sets\n",
    "X_train, X_val, y_train, y_val = train_test_split(X_selected, y, test_size=0.2, random_state=42)\n",
    "\n",
    "# Define the parameter grid for RandomizedSearchCV\n",
    "param_grid = {\n",
    "    'n_estimators': [100, 200, 300],\n",
    "    'max_depth': [5, 10, 15],\n",
    "    'min_samples_split': [2, 5, 10]\n",
    "}\n",
    "\n",
    "# Initialize a random forest regressor model\n",
    "model = RandomForestRegressor(random_state=42)\n",
    "\n",
    "# Perform hyperparameter tuning using RandomizedSearchCV\n",
    "search = RandomizedSearchCV(estimator=model, param_distributions=param_grid, n_iter=10, cv=5, scoring='neg_mean_absolute_error')\n",
    "search.fit(X_train, y_train)\n",
    "\n",
    "# Get the best model from the search\n",
    "best_model = search.best_estimator_\n",
    "\n",
    "# Evaluate the best model on the validation set\n",
    "predictions = best_model.predict(X_val)\n",
    "mae = mean_absolute_error(y_val, predictions)\n",
    "print(\"Mean Absolute Error on validation set:\", mae)\n",
    "\n",
    "# Assuming you have a separate test dataset\n",
    "test_data = pd.read_csv(\"C:\\\\Users\\\\apotl\\\\OneDrive\\\\Desktop\\\\test.csv\\\\test.csv\")\n",
    "\n",
    "# Perform feature selection on the test data\n",
    "X_test_selected = selector.transform(test_data)\n",
    "\n",
    "# Make predictions on the test data using the best model\n",
    "test_predictions = best_model.predict(X_test_selected)\n",
    "\n",
    "# Create a DataFrame with 'id' and 'yield_prediction'\n",
    "output = pd.DataFrame({'id': test_data['id'], 'yield_prediction': test_predictions})\n",
    "\n",
    "# Save the predictions to a CSV file\n",
    "output.to_csv(\"predictions3.csv\", index=False)"
   ]
  },
  {
   "cell_type": "code",
   "execution_count": null,
   "id": "36386215",
   "metadata": {},
   "outputs": [],
   "source": []
  }
 ],
 "metadata": {
  "kernelspec": {
   "display_name": "Python 3 (ipykernel)",
   "language": "python",
   "name": "python3"
  },
  "language_info": {
   "codemirror_mode": {
    "name": "ipython",
    "version": 3
   },
   "file_extension": ".py",
   "mimetype": "text/x-python",
   "name": "python",
   "nbconvert_exporter": "python",
   "pygments_lexer": "ipython3",
   "version": "3.10.9"
  }
 },
 "nbformat": 4,
 "nbformat_minor": 5
}
